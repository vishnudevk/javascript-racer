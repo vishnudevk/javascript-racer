{
 "cells": [
  {
   "cell_type": "markdown",
   "metadata": {},
   "source": [
    "<h2><b> GAME ENVIRONMENT CODE & BASIC FUNCTIONS</b></h2>"
   ]
  },
  {
   "cell_type": "code",
   "execution_count": 1,
   "metadata": {},
   "outputs": [],
   "source": [
    "%matplotlib inline\n",
    "import tensorflow as tf\n",
    "import matplotlib.pyplot as plt\n",
    "import numpy as np\n",
    "\n",
    "from game import Game\n",
    "from racing_env import RaceGameEnv\n",
    "from PIL import Image\n",
    "from io import BytesIO\n",
    "from tf_agents.environments import utils\n",
    "from tf_agents.networks import q_network\n",
    "from tf_agents.agents.dqn import dqn_agent\n",
    "from tf_agents.utils import common\n",
    "from tf_agents.environments import tf_py_environment\n",
    "from tf_agents.policies import random_tf_policy\n",
    "from tf_agents.replay_buffers import tf_uniform_replay_buffer\n",
    "from tf_agents.trajectories import trajectory"
   ]
  },
  {
   "cell_type": "code",
   "execution_count": 2,
   "metadata": {},
   "outputs": [
    {
     "output_type": "stream",
     "name": "stdout",
     "text": "serving at port 8000\n127.0.0.1 - - [15/Jun/2020 21:15:17] \"GET /v4.final.noCars.html HTTP/1.1\" 200 -\n127.0.0.1 - - [15/Jun/2020 21:15:17] \"GET /common.css HTTP/1.1\" 200 -\n127.0.0.1 - - [15/Jun/2020 21:15:17] \"GET /stats.js HTTP/1.1\" 200 -\n127.0.0.1 - - [15/Jun/2020 21:15:17] \"GET /common.js HTTP/1.1\" 200 -\n127.0.0.1 - - [15/Jun/2020 21:15:18] \"GET /music/racer.ogg HTTP/1.1\" 200 -\n127.0.0.1 - - [15/Jun/2020 21:15:18] \"GET /images/mute.png HTTP/1.1\" 200 -\n127.0.0.1 - - [15/Jun/2020 21:15:18] \"GET /images/background.png HTTP/1.1\" 200 -\n127.0.0.1 - - [15/Jun/2020 21:15:18] \"GET /images/sprites.png HTTP/1.1\" 200 -\n127.0.0.1 - - [15/Jun/2020 21:15:19] code 404, message File not found\n127.0.0.1 - - [15/Jun/2020 21:15:19] \"GET /favicon.ico HTTP/1.1\" 404 -\n"
    }
   ],
   "source": [
    "game = Game()"
   ]
  },
  {
   "cell_type": "code",
   "execution_count": 3,
   "metadata": {
    "tags": [
     "outputPrepend",
     "outputPrepend"
    ]
   },
   "outputs": [
    {
     "output_type": "stream",
     "name": "stdout",
     "text": "(55, 240)\n"
    },
    {
     "output_type": "display_data",
     "data": {
      "text/plain": "<Figure size 432x288 with 1 Axes>",
      "image/svg+xml": "<?xml version=\"1.0\" encoding=\"utf-8\" standalone=\"no\"?>\r\n<!DOCTYPE svg PUBLIC \"-//W3C//DTD SVG 1.1//EN\"\r\n  \"http://www.w3.org/Graphics/SVG/1.1/DTD/svg11.dtd\">\r\n<!-- Created with matplotlib (https://matplotlib.org/) -->\r\n<svg height=\"110.904844pt\" version=\"1.1\" viewBox=\"0 0 368.925 110.904844\" width=\"368.925pt\" xmlns=\"http://www.w3.org/2000/svg\" xmlns:xlink=\"http://www.w3.org/1999/xlink\">\r\n <defs>\r\n  <style type=\"text/css\">\r\n*{stroke-linecap:butt;stroke-linejoin:round;}\r\n  </style>\r\n </defs>\r\n <g id=\"figure_1\">\r\n  <g id=\"patch_1\">\r\n   <path d=\"M -0 110.904844 \r\nL 368.925 110.904844 \r\nL 368.925 0 \r\nL -0 0 \r\nz\r\n\" style=\"fill:none;\"/>\r\n  </g>\r\n  <g id=\"axes_1\">\r\n   <g id=\"patch_2\">\r\n    <path d=\"M 26.925 87.026719 \r\nL 361.725 87.026719 \r\nL 361.725 10.301719 \r\nL 26.925 10.301719 \r\nz\r\n\" style=\"fill:#ffffff;\"/>\r\n   </g>\r\n   <g clip-path=\"url(#pb03fc80e41)\">\r\n    <image height=\"77\" id=\"imagede016152cb\" transform=\"scale(1 -1)translate(0 -77)\" width=\"335\" x=\"26.925\" xlink:href=\"data:image/png;base64,\r\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\" y=\"-10.026719\"/>\r\n   </g>\r\n   <g id=\"matplotlib.axis_1\">\r\n    <g id=\"xtick_1\">\r\n     <g id=\"line2d_1\">\r\n      <defs>\r\n       <path d=\"M 0 0 \r\nL 0 3.5 \r\n\" id=\"m7d47e69714\" style=\"stroke:#000000;stroke-width:0.8;\"/>\r\n      </defs>\r\n      <g>\r\n       <use style=\"stroke:#000000;stroke-width:0.8;\" x=\"27.6225\" xlink:href=\"#m7d47e69714\" y=\"87.026719\"/>\r\n      </g>\r\n     </g>\r\n     <g id=\"text_1\">\r\n      <!-- 0 -->\r\n      <defs>\r\n       <path d=\"M 31.78125 66.40625 \r\nQ 24.171875 66.40625 20.328125 58.90625 \r\nQ 16.5 51.421875 16.5 36.375 \r\nQ 16.5 21.390625 20.328125 13.890625 \r\nQ 24.171875 6.390625 31.78125 6.390625 \r\nQ 39.453125 6.390625 43.28125 13.890625 \r\nQ 47.125 21.390625 47.125 36.375 \r\nQ 47.125 51.421875 43.28125 58.90625 \r\nQ 39.453125 66.40625 31.78125 66.40625 \r\nz\r\nM 31.78125 74.21875 \r\nQ 44.046875 74.21875 50.515625 64.515625 \r\nQ 56.984375 54.828125 56.984375 36.375 \r\nQ 56.984375 17.96875 50.515625 8.265625 \r\nQ 44.046875 -1.421875 31.78125 -1.421875 \r\nQ 19.53125 -1.421875 13.0625 8.265625 \r\nQ 6.59375 17.96875 6.59375 36.375 \r\nQ 6.59375 54.828125 13.0625 64.515625 \r\nQ 19.53125 74.21875 31.78125 74.21875 \r\nz\r\n\" id=\"DejaVuSans-48\"/>\r\n      </defs>\r\n      <g transform=\"translate(24.44125 101.625156)scale(0.1 -0.1)\">\r\n       <use xlink:href=\"#DejaVuSans-48\"/>\r\n      </g>\r\n     </g>\r\n    </g>\r\n    <g id=\"xtick_2\">\r\n     <g id=\"line2d_2\">\r\n      <g>\r\n       <use style=\"stroke:#000000;stroke-width:0.8;\" x=\"97.3725\" xlink:href=\"#m7d47e69714\" y=\"87.026719\"/>\r\n      </g>\r\n     </g>\r\n     <g id=\"text_2\">\r\n      <!-- 50 -->\r\n      <defs>\r\n       <path d=\"M 10.796875 72.90625 \r\nL 49.515625 72.90625 \r\nL 49.515625 64.59375 \r\nL 19.828125 64.59375 \r\nL 19.828125 46.734375 \r\nQ 21.96875 47.46875 24.109375 47.828125 \r\nQ 26.265625 48.1875 28.421875 48.1875 \r\nQ 40.625 48.1875 47.75 41.5 \r\nQ 54.890625 34.8125 54.890625 23.390625 \r\nQ 54.890625 11.625 47.5625 5.09375 \r\nQ 40.234375 -1.421875 26.90625 -1.421875 \r\nQ 22.3125 -1.421875 17.546875 -0.640625 \r\nQ 12.796875 0.140625 7.71875 1.703125 \r\nL 7.71875 11.625 \r\nQ 12.109375 9.234375 16.796875 8.0625 \r\nQ 21.484375 6.890625 26.703125 6.890625 \r\nQ 35.15625 6.890625 40.078125 11.328125 \r\nQ 45.015625 15.765625 45.015625 23.390625 \r\nQ 45.015625 31 40.078125 35.4375 \r\nQ 35.15625 39.890625 26.703125 39.890625 \r\nQ 22.75 39.890625 18.8125 39.015625 \r\nQ 14.890625 38.140625 10.796875 36.28125 \r\nz\r\n\" id=\"DejaVuSans-53\"/>\r\n      </defs>\r\n      <g transform=\"translate(91.01 101.625156)scale(0.1 -0.1)\">\r\n       <use xlink:href=\"#DejaVuSans-53\"/>\r\n       <use x=\"63.623047\" xlink:href=\"#DejaVuSans-48\"/>\r\n      </g>\r\n     </g>\r\n    </g>\r\n    <g id=\"xtick_3\">\r\n     <g id=\"line2d_3\">\r\n      <g>\r\n       <use style=\"stroke:#000000;stroke-width:0.8;\" x=\"167.1225\" xlink:href=\"#m7d47e69714\" y=\"87.026719\"/>\r\n      </g>\r\n     </g>\r\n     <g id=\"text_3\">\r\n      <!-- 100 -->\r\n      <defs>\r\n       <path d=\"M 12.40625 8.296875 \r\nL 28.515625 8.296875 \r\nL 28.515625 63.921875 \r\nL 10.984375 60.40625 \r\nL 10.984375 69.390625 \r\nL 28.421875 72.90625 \r\nL 38.28125 72.90625 \r\nL 38.28125 8.296875 \r\nL 54.390625 8.296875 \r\nL 54.390625 0 \r\nL 12.40625 0 \r\nz\r\n\" id=\"DejaVuSans-49\"/>\r\n      </defs>\r\n      <g transform=\"translate(157.57875 101.625156)scale(0.1 -0.1)\">\r\n       <use xlink:href=\"#DejaVuSans-49\"/>\r\n       <use x=\"63.623047\" xlink:href=\"#DejaVuSans-48\"/>\r\n       <use x=\"127.246094\" xlink:href=\"#DejaVuSans-48\"/>\r\n      </g>\r\n     </g>\r\n    </g>\r\n    <g id=\"xtick_4\">\r\n     <g id=\"line2d_4\">\r\n      <g>\r\n       <use style=\"stroke:#000000;stroke-width:0.8;\" x=\"236.8725\" xlink:href=\"#m7d47e69714\" y=\"87.026719\"/>\r\n      </g>\r\n     </g>\r\n     <g id=\"text_4\">\r\n      <!-- 150 -->\r\n      <g transform=\"translate(227.32875 101.625156)scale(0.1 -0.1)\">\r\n       <use xlink:href=\"#DejaVuSans-49\"/>\r\n       <use x=\"63.623047\" xlink:href=\"#DejaVuSans-53\"/>\r\n       <use x=\"127.246094\" xlink:href=\"#DejaVuSans-48\"/>\r\n      </g>\r\n     </g>\r\n    </g>\r\n    <g id=\"xtick_5\">\r\n     <g id=\"line2d_5\">\r\n      <g>\r\n       <use style=\"stroke:#000000;stroke-width:0.8;\" x=\"306.6225\" xlink:href=\"#m7d47e69714\" y=\"87.026719\"/>\r\n      </g>\r\n     </g>\r\n     <g id=\"text_5\">\r\n      <!-- 200 -->\r\n      <defs>\r\n       <path d=\"M 19.1875 8.296875 \r\nL 53.609375 8.296875 \r\nL 53.609375 0 \r\nL 7.328125 0 \r\nL 7.328125 8.296875 \r\nQ 12.9375 14.109375 22.625 23.890625 \r\nQ 32.328125 33.6875 34.8125 36.53125 \r\nQ 39.546875 41.84375 41.421875 45.53125 \r\nQ 43.3125 49.21875 43.3125 52.78125 \r\nQ 43.3125 58.59375 39.234375 62.25 \r\nQ 35.15625 65.921875 28.609375 65.921875 \r\nQ 23.96875 65.921875 18.8125 64.3125 \r\nQ 13.671875 62.703125 7.8125 59.421875 \r\nL 7.8125 69.390625 \r\nQ 13.765625 71.78125 18.9375 73 \r\nQ 24.125 74.21875 28.421875 74.21875 \r\nQ 39.75 74.21875 46.484375 68.546875 \r\nQ 53.21875 62.890625 53.21875 53.421875 \r\nQ 53.21875 48.921875 51.53125 44.890625 \r\nQ 49.859375 40.875 45.40625 35.40625 \r\nQ 44.1875 33.984375 37.640625 27.21875 \r\nQ 31.109375 20.453125 19.1875 8.296875 \r\nz\r\n\" id=\"DejaVuSans-50\"/>\r\n      </defs>\r\n      <g transform=\"translate(297.07875 101.625156)scale(0.1 -0.1)\">\r\n       <use xlink:href=\"#DejaVuSans-50\"/>\r\n       <use x=\"63.623047\" xlink:href=\"#DejaVuSans-48\"/>\r\n       <use x=\"127.246094\" xlink:href=\"#DejaVuSans-48\"/>\r\n      </g>\r\n     </g>\r\n    </g>\r\n   </g>\r\n   <g id=\"matplotlib.axis_2\">\r\n    <g id=\"ytick_1\">\r\n     <g id=\"line2d_6\">\r\n      <defs>\r\n       <path d=\"M 0 0 \r\nL -3.5 0 \r\n\" id=\"m3d4d766c2a\" style=\"stroke:#000000;stroke-width:0.8;\"/>\r\n      </defs>\r\n      <g>\r\n       <use style=\"stroke:#000000;stroke-width:0.8;\" x=\"26.925\" xlink:href=\"#m3d4d766c2a\" y=\"10.999219\"/>\r\n      </g>\r\n     </g>\r\n     <g id=\"text_6\">\r\n      <!-- 0 -->\r\n      <g transform=\"translate(13.5625 14.798437)scale(0.1 -0.1)\">\r\n       <use xlink:href=\"#DejaVuSans-48\"/>\r\n      </g>\r\n     </g>\r\n    </g>\r\n    <g id=\"ytick_2\">\r\n     <g id=\"line2d_7\">\r\n      <g>\r\n       <use style=\"stroke:#000000;stroke-width:0.8;\" x=\"26.925\" xlink:href=\"#m3d4d766c2a\" y=\"38.899219\"/>\r\n      </g>\r\n     </g>\r\n     <g id=\"text_7\">\r\n      <!-- 20 -->\r\n      <g transform=\"translate(7.2 42.698437)scale(0.1 -0.1)\">\r\n       <use xlink:href=\"#DejaVuSans-50\"/>\r\n       <use x=\"63.623047\" xlink:href=\"#DejaVuSans-48\"/>\r\n      </g>\r\n     </g>\r\n    </g>\r\n    <g id=\"ytick_3\">\r\n     <g id=\"line2d_8\">\r\n      <g>\r\n       <use style=\"stroke:#000000;stroke-width:0.8;\" x=\"26.925\" xlink:href=\"#m3d4d766c2a\" y=\"66.799219\"/>\r\n      </g>\r\n     </g>\r\n     <g id=\"text_8\">\r\n      <!-- 40 -->\r\n      <defs>\r\n       <path d=\"M 37.796875 64.3125 \r\nL 12.890625 25.390625 \r\nL 37.796875 25.390625 \r\nz\r\nM 35.203125 72.90625 \r\nL 47.609375 72.90625 \r\nL 47.609375 25.390625 \r\nL 58.015625 25.390625 \r\nL 58.015625 17.1875 \r\nL 47.609375 17.1875 \r\nL 47.609375 0 \r\nL 37.796875 0 \r\nL 37.796875 17.1875 \r\nL 4.890625 17.1875 \r\nL 4.890625 26.703125 \r\nz\r\n\" id=\"DejaVuSans-52\"/>\r\n      </defs>\r\n      <g transform=\"translate(7.2 70.598437)scale(0.1 -0.1)\">\r\n       <use xlink:href=\"#DejaVuSans-52\"/>\r\n       <use x=\"63.623047\" xlink:href=\"#DejaVuSans-48\"/>\r\n      </g>\r\n     </g>\r\n    </g>\r\n   </g>\r\n   <g id=\"patch_3\">\r\n    <path d=\"M 26.925 87.026719 \r\nL 26.925 10.301719 \r\n\" style=\"fill:none;stroke:#000000;stroke-linecap:square;stroke-linejoin:miter;stroke-width:0.8;\"/>\r\n   </g>\r\n   <g id=\"patch_4\">\r\n    <path d=\"M 361.725 87.026719 \r\nL 361.725 10.301719 \r\n\" style=\"fill:none;stroke:#000000;stroke-linecap:square;stroke-linejoin:miter;stroke-width:0.8;\"/>\r\n   </g>\r\n   <g id=\"patch_5\">\r\n    <path d=\"M 26.925 87.026719 \r\nL 361.725 87.026719 \r\n\" style=\"fill:none;stroke:#000000;stroke-linecap:square;stroke-linejoin:miter;stroke-width:0.8;\"/>\r\n   </g>\r\n   <g id=\"patch_6\">\r\n    <path d=\"M 26.925 10.301719 \r\nL 361.725 10.301719 \r\n\" style=\"fill:none;stroke:#000000;stroke-linecap:square;stroke-linejoin:miter;stroke-width:0.8;\"/>\r\n   </g>\r\n  </g>\r\n </g>\r\n <defs>\r\n  <clipPath id=\"pb03fc80e41\">\r\n   <rect height=\"76.725\" width=\"334.8\" x=\"26.925\" y=\"10.301719\"/>\r\n  </clipPath>\r\n </defs>\r\n</svg>\r\n",
      "image/png": "[encoded data removed]"
     },
     "metadata": {
      "needs_background": "light"
     }
    }
   ],
   "source": [
    "for i in range(1):\n",
    "\n",
    "    img = game.takess()\n",
    "    print(img.shape)\n",
    "    im = Image.fromarray(img, 'RGB')    \n",
    "    imgplot = plt.imshow(im,cmap=plt.cm.binary)\n",
    "    #plt.show()\n",
    "\n",
    "    #im.save(\"screenshot.jpeg\")\n",
    "    game.getSpead()\n",
    "    game.move('up')\n",
    "\n",
    "game.resetGame()"
   ]
  },
  {
   "cell_type": "markdown",
   "metadata": {},
   "source": [
    "<h2><b> TENSORFLOW ENVIRONMENT CODE </b></h2>"
   ]
  },
  {
   "cell_type": "code",
   "execution_count": 3,
   "metadata": {},
   "outputs": [
    {
     "output_type": "stream",
     "name": "stdout",
     "text": "serving at port 8000\n127.0.0.1 - - [15/Jun/2020 20:43:17] \"GET /v4.final.noCars.html HTTP/1.1\" 200 -\n127.0.0.1 - - [15/Jun/2020 20:43:18] \"GET /common.css HTTP/1.1\" 200 -\n127.0.0.1 - - [15/Jun/2020 20:43:18] \"GET /stats.js HTTP/1.1\" 200 -\n127.0.0.1 - - [15/Jun/2020 20:43:18] \"GET /common.js HTTP/1.1\" 200 -\n127.0.0.1 - - [15/Jun/2020 20:43:18] \"GET /music/racer.ogg HTTP/1.1\" 200 -\n----------------------------------------\nException happened during processing of request from ('127.0.0.1', 59967)\nTraceback (most recent call last):\n  File \"c:\\program files\\python37\\Lib\\socketserver.py\", line 316, in _handle_request_noblock\n    self.process_request(request, client_address)\n  File \"c:\\program files\\python37\\Lib\\socketserver.py\", line 347, in process_request\n    self.finish_request(request, client_address)\n  File \"c:\\program files\\python37\\Lib\\socketserver.py\", line 360, in finish_request\n    self.RequestHandlerClass(request, client_address, self)\n  File \"c:\\program files\\python37\\Lib\\http\\server.py\", line 646, in __init__\n    super().__init__(*args, **kwargs)\n  File \"c:\\program files\\python37\\Lib\\socketserver.py\", line 720, in __init__\n    self.handle()\n  File \"c:\\program files\\python37\\Lib\\http\\server.py\", line 426, in handle\n    self.handle_one_request()\n  File \"c:\\program files\\python37\\Lib\\http\\server.py\", line 414, in handle_one_request\n    method()\n  File \"c:\\program files\\python37\\Lib\\http\\server.py\", line 653, in do_GET\n    self.copyfile(f, self.wfile)\n  File \"c:\\program files\\python37\\Lib\\http\\server.py\", line 844, in copyfile\n    shutil.copyfileobj(source, outputfile)\n  File \"C:\\Users\\VishnudevK\\Desktop\\Tensorflow-Training\\tfpython\\lib\\shutil.py\", line 82, in copyfileobj\n    fdst.write(buf)\n  File \"c:\\program files\\python37\\Lib\\socketserver.py\", line 799, in write\n    self._sock.sendall(b)\nConnectionResetError: [WinError 10054] An existing connection was forcibly closed by the remote host\n----------------------------------------\n127.0.0.1 - - [15/Jun/2020 20:43:34] \"GET /images/mute.png HTTP/1.1\" 200 -\n127.0.0.1 - - [15/Jun/2020 20:43:34] \"GET /images/background.png HTTP/1.1\" 200 -\n127.0.0.1 - - [15/Jun/2020 20:43:34] \"GET /images/sprites.png HTTP/1.1\" 200 -\nINIT IS TRIGGERED\n"
    }
   ],
   "source": [
    "env = RaceGameEnv()\n",
    "#env = tf_py_environment.TFPyEnvironment(env)\n",
    "#utils.validate_py_environment(env, episodes=1)"
   ]
  },
  {
   "cell_type": "code",
   "execution_count": 4,
   "metadata": {
    "tags": [
     "outputPrepend",
     "outputPrepend",
     "outputPrepend",
     "outputPrepend",
     "outputPrepend",
     "outputPrepend",
     "outputPrepend",
     "outputPrepend",
     "outputPrepend",
     "outputPrepend",
     "outputPrepend",
     "outputPrepend",
     "outputPrepend",
     "outputPrepend",
     "outputPrepend",
     "outputPrepend",
     "outputPrepend",
     "outputPrepend",
     "outputPrepend",
     "outputPrepend",
     "outputPrepend",
     "outputPrepend",
     "outputPrepend",
     "outputPrepend",
     "outputPrepend",
     "outputPrepend",
     "outputPrepend",
     "outputPrepend"
    ]
   },
   "outputs": [
    {
     "output_type": "stream",
     "name": "stderr",
     "text": "127.0.0.1 - - [15/Jun/2020 20:43:34] code 404, message File not found\n127.0.0.1 - - [15/Jun/2020 20:43:34] \"GET /favicon.ico HTTP/1.1\" 404 -\nRESET METHOD IS TRIGGERED\nGAME OVER\nRESET METHOD IS TRIGGERED\n"
    }
   ],
   "source": [
    "utils.validate_py_environment(env, episodes=1)"
   ]
  },
  {
   "cell_type": "code",
   "execution_count": 5,
   "metadata": {},
   "outputs": [],
   "source": [
    "env = tf_py_environment.TFPyEnvironment(env)"
   ]
  },
  {
   "cell_type": "code",
   "execution_count": 6,
   "metadata": {},
   "outputs": [],
   "source": [
    "num_iterations = 20000 # @param {type:\"integer\"}\n",
    "\n",
    "initial_collect_steps = 1000  # @param {type:\"integer\"} \n",
    "collect_steps_per_iteration = 1  # @param {type:\"integer\"}\n",
    "replay_buffer_max_length = 1000  # @param {type:\"integer\"}\n",
    "\n",
    "batch_size = 64  # @param {type:\"integer\"}\n",
    "learning_rate = 1e-6  # @param {type:\"number\"}\n",
    "log_interval = 200  # @param {type:\"integer\"}\n",
    "\n",
    "num_eval_episodes = 10  # @param {type:\"integer\"}\n",
    "eval_interval = 1000  # @param {type:\"integer\"}\n"
   ]
  },
  {
   "cell_type": "code",
   "execution_count": 7,
   "metadata": {},
   "outputs": [],
   "source": [
    "#fc_layer_params = (200,)\n",
    "fc_layer_params = (75,25)\n",
    "\n",
    "##q_net = q_network.QNetwork(\n",
    "#    env.observation_spec(),\n",
    "#    env.action_spec(),\n",
    "#    fc_layer_params=fc_layer_params)\n",
    "\n",
    "conv_layer_params = [( 32 , ( 5 , 5 ), 1 ), ( 64 , ( 3 , 3 ), 1 )]\n",
    "\n",
    "q_net = q_network.QNetwork(\n",
    "    env.observation_spec(),\n",
    "    env.action_spec(),\n",
    "    conv_layer_params=conv_layer_params,\n",
    "    fc_layer_params=fc_layer_params)\n",
    "\n",
    "\n"
   ]
  },
  {
   "cell_type": "code",
   "execution_count": 8,
   "metadata": {},
   "outputs": [
    {
     "output_type": "stream",
     "name": "stdout",
     "text": "WARNING:tensorflow:Layer QNetwork is casting an input tensor from dtype float64 to the layer's dtype of float32, which is new behavior in TensorFlow 2.  The layer has dtype float32 because it's dtype defaults to floatx.\n\nIf you intended to run this layer in float32, you can safely ignore this warning. If in doubt, this warning is likely only an issue if you are porting a TensorFlow 1.X model to TensorFlow 2.\n\nTo change all layers to have dtype float64 by default, call `tf.keras.backend.set_floatx('float64')`. To change just this layer, pass dtype='float64' to the layer constructor. If you are the author of this layer, you can disable autocasting by passing autocast=False to the base Layer constructor.\n\nWARNING:tensorflow:Layer TargetQNetwork is casting an input tensor from dtype float64 to the layer's dtype of float32, which is new behavior in TensorFlow 2.  The layer has dtype float32 because it's dtype defaults to floatx.\n\nIf you intended to run this layer in float32, you can safely ignore this warning. If in doubt, this warning is likely only an issue if you are porting a TensorFlow 1.X model to TensorFlow 2.\n\nTo change all layers to have dtype float64 by default, call `tf.keras.backend.set_floatx('float64')`. To change just this layer, pass dtype='float64' to the layer constructor. If you are the author of this layer, you can disable autocasting by passing autocast=False to the base Layer constructor.\n\n"
    }
   ],
   "source": [
    "optimizer = tf.compat.v1.train.AdamOptimizer(learning_rate=learning_rate)\n",
    "\n",
    "train_step_counter = tf.Variable(0)\n",
    "\n",
    "agent = dqn_agent.DqnAgent(\n",
    "    env.time_step_spec(),\n",
    "    env.action_spec(),\n",
    "    q_network=q_net,\n",
    "    optimizer=optimizer,\n",
    "    td_errors_loss_fn=common.element_wise_squared_loss,\n",
    "    train_step_counter=train_step_counter)\n",
    "\n",
    "agent.initialize()\n"
   ]
  },
  {
   "cell_type": "code",
   "execution_count": 9,
   "metadata": {},
   "outputs": [],
   "source": [
    "def compute_avg_return(environment, policy, num_episodes=10):\n",
    "\n",
    "  total_return = 0.0\n",
    "  for _ in range(num_episodes):\n",
    "\n",
    "    time_step = environment.reset()\n",
    "    episode_return = 0.0\n",
    "\n",
    "    while not time_step.is_last():\n",
    "      action_step = policy.action(time_step)\n",
    "      time_step = environment.step(action_step.action)\n",
    "      episode_return += time_step.reward\n",
    "    total_return += episode_return\n",
    "\n",
    "  avg_return = total_return / num_episodes\n",
    "  return avg_return.numpy()[0]\n"
   ]
  },
  {
   "cell_type": "code",
   "execution_count": 10,
   "metadata": {},
   "outputs": [
    {
     "output_type": "stream",
     "name": "stdout",
     "text": "RESET METHOD IS TRIGGERED\nGAME OVER\nRESET METHOD IS TRIGGERED\nGAME OVER\nRESET METHOD IS TRIGGERED\nGAME OVER\nRESET METHOD IS TRIGGERED\nGAME OVER\nRESET METHOD IS TRIGGERED\nGAME OVER\nRESET METHOD IS TRIGGERED\nGAME OVER\nRESET METHOD IS TRIGGERED\nGAME OVER\nRESET METHOD IS TRIGGERED\nGAME OVER\nRESET METHOD IS TRIGGERED\nGAME OVER\nRESET METHOD IS TRIGGERED\nGAME OVER\nRESET METHOD IS TRIGGERED\nReturn from Random agent is -197.5\n"
    }
   ],
   "source": [
    "random_policy = random_tf_policy.RandomTFPolicy(env.time_step_spec(),\n",
    "env.action_spec())\n",
    "\n",
    "random_return = compute_avg_return(env, random_policy, num_eval_episodes)\n",
    "\n",
    "env._reset()\n",
    "print(\"Return from Random agent is \" + str(random_return))"
   ]
  },
  {
   "cell_type": "code",
   "execution_count": 11,
   "metadata": {},
   "outputs": [
    {
     "output_type": "execute_result",
     "data": {
      "text/plain": "('step_type',\n 'observation',\n 'action',\n 'policy_info',\n 'next_step_type',\n 'reward',\n 'discount')"
     },
     "metadata": {},
     "execution_count": 11
    }
   ],
   "source": [
    "replay_buffer = tf_uniform_replay_buffer.TFUniformReplayBuffer(\n",
    "    data_spec=agent.collect_data_spec,\n",
    "    batch_size=env.batch_size,\n",
    "    max_length=replay_buffer_max_length)\n",
    "\n",
    "agent.collect_data_spec._fields"
   ]
  },
  {
   "cell_type": "code",
   "execution_count": 12,
   "metadata": {},
   "outputs": [
    {
     "output_type": "stream",
     "name": "stdout",
     "text": "GAME OVER\nRESET METHOD IS TRIGGERED\nGAME OVER\nRESET METHOD IS TRIGGERED\nGAME OVER\nRESET METHOD IS TRIGGERED\nGAME OVER\nRESET METHOD IS TRIGGERED\nGAME OVER\nRESET METHOD IS TRIGGERED\nGAME OVER\nRESET METHOD IS TRIGGERED\nGAME OVER\nRESET METHOD IS TRIGGERED\nGAME OVER\nRESET METHOD IS TRIGGERED\nGAME OVER\nRESET METHOD IS TRIGGERED\nGAME OVER\nRESET METHOD IS TRIGGERED\nGAME OVER\nRESET METHOD IS TRIGGERED\nGAME OVER\nRESET METHOD IS TRIGGERED\nGAME OVER\nRESET METHOD IS TRIGGERED\nGAME OVER\nRESET METHOD IS TRIGGERED\nGAME OVER\nRESET METHOD IS TRIGGERED\nGAME OVER\nRESET METHOD IS TRIGGERED\nGAME OVER\nRESET METHOD IS TRIGGERED\nGAME OVER\nRESET METHOD IS TRIGGERED\nGAME OVER\nRESET METHOD IS TRIGGERED\nGAME OVER\nRESET METHOD IS TRIGGERED\nGAME OVER\nRESET METHOD IS TRIGGERED\nGAME OVER\nRESET METHOD IS TRIGGERED\nGAME OVER\nRESET METHOD IS TRIGGERED\nGAME OVER\nRESET METHOD IS TRIGGERED\nGAME OVER\nRESET METHOD IS TRIGGERED\nGAME OVER\nRESET METHOD IS TRIGGERED\nGAME OVER\nRESET METHOD IS TRIGGERED\nGAME OVER\nRESET METHOD IS TRIGGERED\nGAME OVER\nRESET METHOD IS TRIGGERED\nGAME OVER\nRESET METHOD IS TRIGGERED\nGAME OVER\nRESET METHOD IS TRIGGERED\nGAME OVER\nRESET METHOD IS TRIGGERED\nGAME OVER\nRESET METHOD IS TRIGGERED\nGAME OVER\nRESET METHOD IS TRIGGERED\nGAME OVER\nRESET METHOD IS TRIGGERED\nGAME OVER\nRESET METHOD IS TRIGGERED\nGAME OVER\nRESET METHOD IS TRIGGERED\nGAME OVER\nRESET METHOD IS TRIGGERED\nGAME OVER\nRESET METHOD IS TRIGGERED\nGAME OVER\nRESET METHOD IS TRIGGERED\nGAME OVER\nRESET METHOD IS TRIGGERED\nGAME OVER\nRESET METHOD IS TRIGGERED\nGAME OVER\nRESET METHOD IS TRIGGERED\nGAME OVER\nRESET METHOD IS TRIGGERED\nGAME OVER\nRESET METHOD IS TRIGGERED\nGAME OVER\nRESET METHOD IS TRIGGERED\nGAME OVER\nRESET METHOD IS TRIGGERED\n"
    }
   ],
   "source": [
    "def collect_step(environment, policy, buffer):\n",
    "  time_step = environment.current_time_step()\n",
    "  action_step = policy.action(time_step)\n",
    "  next_time_step = environment.step(action_step.action)\n",
    "  traj = trajectory.from_transition(time_step, action_step, next_time_step)\n",
    "\n",
    "  # Add trajectory to the replay buffer\n",
    "  buffer.add_batch(traj)\n",
    "\n",
    "def collect_data(env, policy, buffer, steps):\n",
    "  for _ in range(steps):\n",
    "    collect_step(env, policy, buffer)\n",
    "\n",
    "collect_data(env, random_policy, replay_buffer, steps=1000)\n",
    "\n",
    "# This loop is so common in RL, that we provide standard implementations. \n",
    "# For more details see the drivers module.\n",
    "# https://www.tensorflow.org/agents/api_docs/python/tf_agents/drivers\n"
   ]
  },
  {
   "cell_type": "code",
   "execution_count": 13,
   "metadata": {},
   "outputs": [
    {
     "output_type": "execute_result",
     "data": {
      "text/plain": "<PrefetchDataset shapes: (Trajectory(step_type=(64, 2), observation=(64, 2, 55, 240, 3), action=(64, 2), policy_info=(), next_step_type=(64, 2), reward=(64, 2), discount=(64, 2)), BufferInfo(ids=(64, 2), probabilities=(64,))), types: (Trajectory(step_type=tf.int32, observation=tf.float64, action=tf.int32, policy_info=(), next_step_type=tf.int32, reward=tf.float32, discount=tf.float32), BufferInfo(ids=tf.int64, probabilities=tf.float32))>"
     },
     "metadata": {},
     "execution_count": 13
    }
   ],
   "source": [
    "# Dataset generates trajectories with shape [Bx2x...]\n",
    "dataset = replay_buffer.as_dataset(\n",
    "    num_parallel_calls=3, \n",
    "    sample_batch_size=batch_size, \n",
    "    num_steps=2).prefetch(3)\n",
    "\n",
    "\n",
    "dataset"
   ]
  },
  {
   "cell_type": "code",
   "execution_count": 14,
   "metadata": {},
   "outputs": [
    {
     "output_type": "stream",
     "name": "stdout",
     "text": "<tensorflow.python.data.ops.iterator_ops.OwnedIterator object at 0x000001E50104CCF8>\n"
    }
   ],
   "source": [
    "iterator = iter(dataset)\n",
    "\n",
    "print(iterator)\n"
   ]
  },
  {
   "cell_type": "code",
   "execution_count": 15,
   "metadata": {},
   "outputs": [
    {
     "output_type": "stream",
     "name": "stdout",
     "text": "RESET METHOD IS TRIGGERED\nGAME OVER\nRESET METHOD IS TRIGGERED\nGAME OVER\nRESET METHOD IS TRIGGERED\nGAME OVER\nRESET METHOD IS TRIGGERED\nGAME OVER\nRESET METHOD IS TRIGGERED\nGAME OVER\nRESET METHOD IS TRIGGERED\nGAME OVER\nRESET METHOD IS TRIGGERED\nGAME OVER\nRESET METHOD IS TRIGGERED\nGAME OVER\nRESET METHOD IS TRIGGERED\nGAME OVER\nRESET METHOD IS TRIGGERED\nGAME OVER\nRESET METHOD IS TRIGGERED\nGAME OVER\nRESET METHOD IS TRIGGERED\nGAME OVER\nRESET METHOD IS TRIGGERED\nGAME OVER\nRESET METHOD IS TRIGGERED\nGAME OVER\nRESET METHOD IS TRIGGERED\nGAME OVER\nRESET METHOD IS TRIGGERED\nGAME OVER\nRESET METHOD IS TRIGGERED\nGAME OVER\nRESET METHOD IS TRIGGERED\nstep = 200: loss = 2829.4951171875\n"
    },
    {
     "output_type": "error",
     "ename": "KeyboardInterrupt",
     "evalue": "",
     "traceback": [
      "\u001b[1;31m---------------------------------------------------------------------------\u001b[0m",
      "\u001b[1;31mKeyboardInterrupt\u001b[0m                         Traceback (most recent call last)",
      "\u001b[1;32m<ipython-input-15-9a535f9dcc1e>\u001b[0m in \u001b[0;36m<module>\u001b[1;34m\u001b[0m\n\u001b[0;32m     22\u001b[0m   \u001b[1;31m# Sample a batch of data from the buffer and update the agent's network.\u001b[0m\u001b[1;33m\u001b[0m\u001b[1;33m\u001b[0m\u001b[1;33m\u001b[0m\u001b[0m\n\u001b[0;32m     23\u001b[0m   \u001b[0mexperience\u001b[0m\u001b[1;33m,\u001b[0m \u001b[0munused_info\u001b[0m \u001b[1;33m=\u001b[0m \u001b[0mnext\u001b[0m\u001b[1;33m(\u001b[0m\u001b[0miterator\u001b[0m\u001b[1;33m)\u001b[0m\u001b[1;33m\u001b[0m\u001b[1;33m\u001b[0m\u001b[0m\n\u001b[1;32m---> 24\u001b[1;33m   \u001b[0mtrain_loss\u001b[0m \u001b[1;33m=\u001b[0m \u001b[0magent\u001b[0m\u001b[1;33m.\u001b[0m\u001b[0mtrain\u001b[0m\u001b[1;33m(\u001b[0m\u001b[0mexperience\u001b[0m\u001b[1;33m)\u001b[0m\u001b[1;33m.\u001b[0m\u001b[0mloss\u001b[0m\u001b[1;33m\u001b[0m\u001b[1;33m\u001b[0m\u001b[0m\n\u001b[0m\u001b[0;32m     25\u001b[0m \u001b[1;33m\u001b[0m\u001b[0m\n\u001b[0;32m     26\u001b[0m   \u001b[0mstep\u001b[0m \u001b[1;33m=\u001b[0m \u001b[0magent\u001b[0m\u001b[1;33m.\u001b[0m\u001b[0mtrain_step_counter\u001b[0m\u001b[1;33m.\u001b[0m\u001b[0mnumpy\u001b[0m\u001b[1;33m(\u001b[0m\u001b[1;33m)\u001b[0m\u001b[1;33m\u001b[0m\u001b[1;33m\u001b[0m\u001b[0m\n",
      "\u001b[1;32m~\\Desktop\\Tensorflow-Training\\tfpython\\lib\\site-packages\\tensorflow\\python\\eager\\def_function.py\u001b[0m in \u001b[0;36m__call__\u001b[1;34m(self, *args, **kwds)\u001b[0m\n\u001b[0;32m    578\u001b[0m         \u001b[0mxla_context\u001b[0m\u001b[1;33m.\u001b[0m\u001b[0mExit\u001b[0m\u001b[1;33m(\u001b[0m\u001b[1;33m)\u001b[0m\u001b[1;33m\u001b[0m\u001b[1;33m\u001b[0m\u001b[0m\n\u001b[0;32m    579\u001b[0m     \u001b[1;32melse\u001b[0m\u001b[1;33m:\u001b[0m\u001b[1;33m\u001b[0m\u001b[1;33m\u001b[0m\u001b[0m\n\u001b[1;32m--> 580\u001b[1;33m       \u001b[0mresult\u001b[0m \u001b[1;33m=\u001b[0m \u001b[0mself\u001b[0m\u001b[1;33m.\u001b[0m\u001b[0m_call\u001b[0m\u001b[1;33m(\u001b[0m\u001b[1;33m*\u001b[0m\u001b[0margs\u001b[0m\u001b[1;33m,\u001b[0m \u001b[1;33m**\u001b[0m\u001b[0mkwds\u001b[0m\u001b[1;33m)\u001b[0m\u001b[1;33m\u001b[0m\u001b[1;33m\u001b[0m\u001b[0m\n\u001b[0m\u001b[0;32m    581\u001b[0m \u001b[1;33m\u001b[0m\u001b[0m\n\u001b[0;32m    582\u001b[0m     \u001b[1;32mif\u001b[0m \u001b[0mtracing_count\u001b[0m \u001b[1;33m==\u001b[0m \u001b[0mself\u001b[0m\u001b[1;33m.\u001b[0m\u001b[0m_get_tracing_count\u001b[0m\u001b[1;33m(\u001b[0m\u001b[1;33m)\u001b[0m\u001b[1;33m:\u001b[0m\u001b[1;33m\u001b[0m\u001b[1;33m\u001b[0m\u001b[0m\n",
      "\u001b[1;32m~\\Desktop\\Tensorflow-Training\\tfpython\\lib\\site-packages\\tensorflow\\python\\eager\\def_function.py\u001b[0m in \u001b[0;36m_call\u001b[1;34m(self, *args, **kwds)\u001b[0m\n\u001b[0;32m    609\u001b[0m       \u001b[1;31m# In this case we have created variables on the first call, so we run the\u001b[0m\u001b[1;33m\u001b[0m\u001b[1;33m\u001b[0m\u001b[1;33m\u001b[0m\u001b[0m\n\u001b[0;32m    610\u001b[0m       \u001b[1;31m# defunned version which is guaranteed to never create variables.\u001b[0m\u001b[1;33m\u001b[0m\u001b[1;33m\u001b[0m\u001b[1;33m\u001b[0m\u001b[0m\n\u001b[1;32m--> 611\u001b[1;33m       \u001b[1;32mreturn\u001b[0m \u001b[0mself\u001b[0m\u001b[1;33m.\u001b[0m\u001b[0m_stateless_fn\u001b[0m\u001b[1;33m(\u001b[0m\u001b[1;33m*\u001b[0m\u001b[0margs\u001b[0m\u001b[1;33m,\u001b[0m \u001b[1;33m**\u001b[0m\u001b[0mkwds\u001b[0m\u001b[1;33m)\u001b[0m  \u001b[1;31m# pylint: disable=not-callable\u001b[0m\u001b[1;33m\u001b[0m\u001b[1;33m\u001b[0m\u001b[0m\n\u001b[0m\u001b[0;32m    612\u001b[0m     \u001b[1;32melif\u001b[0m \u001b[0mself\u001b[0m\u001b[1;33m.\u001b[0m\u001b[0m_stateful_fn\u001b[0m \u001b[1;32mis\u001b[0m \u001b[1;32mnot\u001b[0m \u001b[1;32mNone\u001b[0m\u001b[1;33m:\u001b[0m\u001b[1;33m\u001b[0m\u001b[1;33m\u001b[0m\u001b[0m\n\u001b[0;32m    613\u001b[0m       \u001b[1;31m# Release the lock early so that multiple threads can perform the call\u001b[0m\u001b[1;33m\u001b[0m\u001b[1;33m\u001b[0m\u001b[1;33m\u001b[0m\u001b[0m\n",
      "\u001b[1;32m~\\Desktop\\Tensorflow-Training\\tfpython\\lib\\site-packages\\tensorflow\\python\\eager\\function.py\u001b[0m in \u001b[0;36m__call__\u001b[1;34m(self, *args, **kwargs)\u001b[0m\n\u001b[0;32m   2418\u001b[0m     \u001b[1;32mwith\u001b[0m \u001b[0mself\u001b[0m\u001b[1;33m.\u001b[0m\u001b[0m_lock\u001b[0m\u001b[1;33m:\u001b[0m\u001b[1;33m\u001b[0m\u001b[1;33m\u001b[0m\u001b[0m\n\u001b[0;32m   2419\u001b[0m       \u001b[0mgraph_function\u001b[0m\u001b[1;33m,\u001b[0m \u001b[0margs\u001b[0m\u001b[1;33m,\u001b[0m \u001b[0mkwargs\u001b[0m \u001b[1;33m=\u001b[0m \u001b[0mself\u001b[0m\u001b[1;33m.\u001b[0m\u001b[0m_maybe_define_function\u001b[0m\u001b[1;33m(\u001b[0m\u001b[0margs\u001b[0m\u001b[1;33m,\u001b[0m \u001b[0mkwargs\u001b[0m\u001b[1;33m)\u001b[0m\u001b[1;33m\u001b[0m\u001b[1;33m\u001b[0m\u001b[0m\n\u001b[1;32m-> 2420\u001b[1;33m     \u001b[1;32mreturn\u001b[0m \u001b[0mgraph_function\u001b[0m\u001b[1;33m.\u001b[0m\u001b[0m_filtered_call\u001b[0m\u001b[1;33m(\u001b[0m\u001b[0margs\u001b[0m\u001b[1;33m,\u001b[0m \u001b[0mkwargs\u001b[0m\u001b[1;33m)\u001b[0m  \u001b[1;31m# pylint: disable=protected-access\u001b[0m\u001b[1;33m\u001b[0m\u001b[1;33m\u001b[0m\u001b[0m\n\u001b[0m\u001b[0;32m   2421\u001b[0m \u001b[1;33m\u001b[0m\u001b[0m\n\u001b[0;32m   2422\u001b[0m   \u001b[1;33m@\u001b[0m\u001b[0mproperty\u001b[0m\u001b[1;33m\u001b[0m\u001b[1;33m\u001b[0m\u001b[0m\n",
      "\u001b[1;32m~\\Desktop\\Tensorflow-Training\\tfpython\\lib\\site-packages\\tensorflow\\python\\eager\\function.py\u001b[0m in \u001b[0;36m_filtered_call\u001b[1;34m(self, args, kwargs)\u001b[0m\n\u001b[0;32m   1663\u001b[0m          if isinstance(t, (ops.Tensor,\n\u001b[0;32m   1664\u001b[0m                            resource_variable_ops.BaseResourceVariable))),\n\u001b[1;32m-> 1665\u001b[1;33m         self.captured_inputs)\n\u001b[0m\u001b[0;32m   1666\u001b[0m \u001b[1;33m\u001b[0m\u001b[0m\n\u001b[0;32m   1667\u001b[0m   \u001b[1;32mdef\u001b[0m \u001b[0m_call_flat\u001b[0m\u001b[1;33m(\u001b[0m\u001b[0mself\u001b[0m\u001b[1;33m,\u001b[0m \u001b[0margs\u001b[0m\u001b[1;33m,\u001b[0m \u001b[0mcaptured_inputs\u001b[0m\u001b[1;33m,\u001b[0m \u001b[0mcancellation_manager\u001b[0m\u001b[1;33m=\u001b[0m\u001b[1;32mNone\u001b[0m\u001b[1;33m)\u001b[0m\u001b[1;33m:\u001b[0m\u001b[1;33m\u001b[0m\u001b[1;33m\u001b[0m\u001b[0m\n",
      "\u001b[1;32m~\\Desktop\\Tensorflow-Training\\tfpython\\lib\\site-packages\\tensorflow\\python\\eager\\function.py\u001b[0m in \u001b[0;36m_call_flat\u001b[1;34m(self, args, captured_inputs, cancellation_manager)\u001b[0m\n\u001b[0;32m   1744\u001b[0m       \u001b[1;31m# No tape is watching; skip to running the function.\u001b[0m\u001b[1;33m\u001b[0m\u001b[1;33m\u001b[0m\u001b[1;33m\u001b[0m\u001b[0m\n\u001b[0;32m   1745\u001b[0m       return self._build_call_outputs(self._inference_function.call(\n\u001b[1;32m-> 1746\u001b[1;33m           ctx, args, cancellation_manager=cancellation_manager))\n\u001b[0m\u001b[0;32m   1747\u001b[0m     forward_backward = self._select_forward_and_backward_functions(\n\u001b[0;32m   1748\u001b[0m         \u001b[0margs\u001b[0m\u001b[1;33m,\u001b[0m\u001b[1;33m\u001b[0m\u001b[1;33m\u001b[0m\u001b[0m\n",
      "\u001b[1;32m~\\Desktop\\Tensorflow-Training\\tfpython\\lib\\site-packages\\tensorflow\\python\\eager\\function.py\u001b[0m in \u001b[0;36mcall\u001b[1;34m(self, ctx, args, cancellation_manager)\u001b[0m\n\u001b[0;32m    596\u001b[0m               \u001b[0minputs\u001b[0m\u001b[1;33m=\u001b[0m\u001b[0margs\u001b[0m\u001b[1;33m,\u001b[0m\u001b[1;33m\u001b[0m\u001b[1;33m\u001b[0m\u001b[0m\n\u001b[0;32m    597\u001b[0m               \u001b[0mattrs\u001b[0m\u001b[1;33m=\u001b[0m\u001b[0mattrs\u001b[0m\u001b[1;33m,\u001b[0m\u001b[1;33m\u001b[0m\u001b[1;33m\u001b[0m\u001b[0m\n\u001b[1;32m--> 598\u001b[1;33m               ctx=ctx)\n\u001b[0m\u001b[0;32m    599\u001b[0m         \u001b[1;32melse\u001b[0m\u001b[1;33m:\u001b[0m\u001b[1;33m\u001b[0m\u001b[1;33m\u001b[0m\u001b[0m\n\u001b[0;32m    600\u001b[0m           outputs = execute.execute_with_cancellation(\n",
      "\u001b[1;32m~\\Desktop\\Tensorflow-Training\\tfpython\\lib\\site-packages\\tensorflow\\python\\eager\\execute.py\u001b[0m in \u001b[0;36mquick_execute\u001b[1;34m(op_name, num_outputs, inputs, attrs, ctx, name)\u001b[0m\n\u001b[0;32m     58\u001b[0m     \u001b[0mctx\u001b[0m\u001b[1;33m.\u001b[0m\u001b[0mensure_initialized\u001b[0m\u001b[1;33m(\u001b[0m\u001b[1;33m)\u001b[0m\u001b[1;33m\u001b[0m\u001b[1;33m\u001b[0m\u001b[0m\n\u001b[0;32m     59\u001b[0m     tensors = pywrap_tfe.TFE_Py_Execute(ctx._handle, device_name, op_name,\n\u001b[1;32m---> 60\u001b[1;33m                                         inputs, attrs, num_outputs)\n\u001b[0m\u001b[0;32m     61\u001b[0m   \u001b[1;32mexcept\u001b[0m \u001b[0mcore\u001b[0m\u001b[1;33m.\u001b[0m\u001b[0m_NotOkStatusException\u001b[0m \u001b[1;32mas\u001b[0m \u001b[0me\u001b[0m\u001b[1;33m:\u001b[0m\u001b[1;33m\u001b[0m\u001b[1;33m\u001b[0m\u001b[0m\n\u001b[0;32m     62\u001b[0m     \u001b[1;32mif\u001b[0m \u001b[0mname\u001b[0m \u001b[1;32mis\u001b[0m \u001b[1;32mnot\u001b[0m \u001b[1;32mNone\u001b[0m\u001b[1;33m:\u001b[0m\u001b[1;33m\u001b[0m\u001b[1;33m\u001b[0m\u001b[0m\n",
      "\u001b[1;31mKeyboardInterrupt\u001b[0m: "
     ]
    }
   ],
   "source": [
    "\n",
    "try:\n",
    "  %%time\n",
    "except:\n",
    "  pass\n",
    "\n",
    "# (Optional) Optimize by wrapping some of the code in a graph using TF function.\n",
    "agent.train = common.function(agent.train)\n",
    "\n",
    "# Reset the train step\n",
    "agent.train_step_counter.assign(0)\n",
    "\n",
    "# Evaluate the agent's policy once before training.\n",
    "avg_return = compute_avg_return(env, agent.policy, num_eval_episodes)\n",
    "returns = [avg_return]\n",
    "\n",
    "for _ in range(num_iterations):\n",
    "\n",
    "  # Collect a few steps using collect_policy and save to the replay buffer.\n",
    "  for _ in range(collect_steps_per_iteration):\n",
    "    collect_step(env, agent.collect_policy, replay_buffer)\n",
    "\n",
    "  # Sample a batch of data from the buffer and update the agent's network.\n",
    "  experience, unused_info = next(iterator)\n",
    "  train_loss = agent.train(experience).loss\n",
    "\n",
    "  step = agent.train_step_counter.numpy()\n",
    "\n",
    "  if step % log_interval == 0:\n",
    "    print('step = {0}: loss = {1}'.format(step, train_loss))\n",
    "\n",
    "  if step % eval_interval == 0:\n",
    "    avg_return = compute_avg_return(env, agent.policy, num_eval_episodes)\n",
    "    print('step = {0}: Average Return = {1}'.format(step, avg_return))\n",
    "    returns.append(avg_return)\n"
   ]
  }
 ],
 "metadata": {
  "language_info": {
   "codemirror_mode": {
    "name": "ipython",
    "version": 3
   },
   "file_extension": ".py",
   "mimetype": "text/x-python",
   "name": "python",
   "nbconvert_exporter": "python",
   "pygments_lexer": "ipython3",
   "version": "3.7.3-final"
  },
  "orig_nbformat": 2,
  "kernelspec": {
   "name": "python37364bittfpythonvirtualenvc896718c15ce430fbcbfe7334c839c00",
   "display_name": "Python 3.7.3 64-bit ('tfpython': virtualenv)"
  }
 },
 "nbformat": 4,
 "nbformat_minor": 2
}