{
 "cells": [
  {
   "cell_type": "code",
   "execution_count": 1,
   "metadata": {},
   "outputs": [],
   "source": [
    "import base64\n",
    "from selenium import webdriver\n",
    "import time \n",
    "from selenium.webdriver import ActionChains"
   ]
  },
  {
   "cell_type": "code",
   "execution_count": 2,
   "metadata": {},
   "outputs": [],
   "source": [
    "driver = webdriver.Chrome('./chromedriver')\n",
    "driver.get(\"http://127.0.0.1:5500/v4.final.html\")\n",
    "\n",
    "\n",
    "canvas = driver.find_element_by_css_selector(\"#canvas\")\n",
    "\n"
   ]
  },
  {
   "cell_type": "code",
   "execution_count": 14,
   "metadata": {},
   "outputs": [],
   "source": [
    "def takess(driver):\n",
    "    start_time = time.time()\n",
    "    # get the canvas as a PNG base64 string\n",
    "    canvas_base64 = driver.execute_script(\"return arguments[0].toDataURL('image/png').substring(21);\", canvas)\n",
    "    # decode\n",
    "    canvas_png = base64.b64decode(canvas_base64)\n",
    "    #print(type(canvas_png))\n",
    "    print(\"ss taken in %s seconds\" % (time.time() - start_time))\n"
   ]
  },
  {
   "cell_type": "code",
   "execution_count": 83,
   "metadata": {},
   "outputs": [],
   "source": [
    "def getSpead(driver):\n",
    "    print(driver.find_element_by_css_selector(\"#speed_value\").get_attribute('innerHTML'))\n"
   ]
  },
  {
   "cell_type": "code",
   "execution_count": 115,
   "metadata": {},
   "outputs": [],
   "source": [
    "def resetGame(driver):\n",
    "    driver.execute_script(\"playerX = 0; speed = 0;resetRoad();\")\n",
    "    #driver.find_elements_by_tag_name(\"body\")[0].send_keys(\"\\uE035\")\n",
    "    #driver.get(\"http://127.0.0.1:5500/v4.final.html\")"
   ]
  },
  {
   "cell_type": "code",
   "execution_count": 72,
   "metadata": {},
   "outputs": [],
   "source": [
    "def move(driver,direction):\n",
    "    action_key_down_w = ActionChains(driver).key_down(\"w\")\n",
    "    action_key_up_w = ActionChains(driver).key_up(\"w\")\n",
    "\n",
    "    action_key_down_a = ActionChains(driver).key_down(\"a\")\n",
    "    action_key_up_a = ActionChains(driver).key_up(\"a\")\n",
    "\n",
    "    action_key_down_s = ActionChains(driver).key_down(\"s\")\n",
    "    action_key_up_s = ActionChains(driver).key_up(\"s\")\n",
    "\n",
    "    action_key_down_d = ActionChains(driver).key_down(\"d\")\n",
    "    action_key_up_d = ActionChains(driver).key_up(\"d\")\n",
    "\n",
    "    action_key_down_f = ActionChains(driver).key_down(\"f\")\n",
    "    action_key_up_f = ActionChains(driver).key_up(\"f\")\n",
    "\n",
    "    keyPresstime = .5\n",
    "\n",
    "    endtime = time.time() + keyPresstime\n",
    "    \n",
    "    if direction == 'up':\n",
    "        action_down = action_key_down_w\n",
    "        action_up = action_key_up_w\n",
    "    elif direction == 'down':   \n",
    "        action_down = action_key_down_s\n",
    "        action_up = action_key_up_s\n",
    "    elif direction == 'left' :  \n",
    "        action_down = action_key_down_a\n",
    "        action_up = action_key_up_a\n",
    "    elif direction == 'right' :  \n",
    "        action_down = action_key_down_d\n",
    "        action_up = action_key_up_d\n",
    "    else:\n",
    "        action_down = action_key_down_f\n",
    "        action_up = action_key_up_f\n",
    "\n",
    "    while True:\n",
    "        action_down.perform()\n",
    "\n",
    "        if time.time() > endtime:\n",
    "            action_up.perform()\n",
    "            break\n",
    "\n"
   ]
  },
  {
   "cell_type": "code",
   "execution_count": 116,
   "metadata": {
    "tags": [
     "outputPrepend",
     "outputPrepend",
     "outputPrepend",
     "outputPrepend",
     "outputPrepend",
     "outputPrepend",
     "outputPrepend",
     "outputPrepend",
     "outputPrepend",
     "outputPrepend"
    ]
   },
   "outputs": [
    {
     "output_type": "stream",
     "name": "stdout",
     "text": "ss taken in 0.0805654525756836 seconds\n0\nss taken in 0.07702374458312988 seconds\n10\nss taken in 0.053057193756103516 seconds\n15\nss taken in 0.06834244728088379 seconds\n25\nss taken in 0.050251007080078125 seconds\n30\nss taken in 0.06317305564880371 seconds\n40\nss taken in 0.044181108474731445 seconds\n50\nss taken in 0.049001455307006836 seconds\n55\nss taken in 0.053262948989868164 seconds\n65\nss taken in 0.05777120590209961 seconds\n75\n"
    }
   ],
   "source": [
    "#resetGame(driver)\n",
    "\n",
    "for i in range(10):\n",
    "    takess(driver)\n",
    "    getSpead(driver)\n",
    "    move(driver,'up')\n",
    "\n",
    "resetGame(driver)\n"
   ]
  },
  {
   "cell_type": "code",
   "execution_count": 110,
   "metadata": {},
   "outputs": [],
   "source": [
    "resetGame(driver)\n"
   ]
  }
 ],
 "metadata": {
  "language_info": {
   "codemirror_mode": {
    "name": "ipython",
    "version": 3
   },
   "file_extension": ".py",
   "mimetype": "text/x-python",
   "name": "python",
   "nbconvert_exporter": "python",
   "pygments_lexer": "ipython3",
   "version": "3.8.2-final"
  },
  "orig_nbformat": 2,
  "kernelspec": {
   "name": "python38264bit6684edc39cde4921bdb5a4b183ba7954",
   "display_name": "Python 3.8.2 64-bit"
  }
 },
 "nbformat": 4,
 "nbformat_minor": 2
}